{
 "cells": [
  {
   "cell_type": "code",
   "execution_count": 1,
   "metadata": {},
   "outputs": [],
   "source": [
    "import pandas as pd\n",
    "from random import choices\n",
    "from numpy import random\n",
    "import numpy as np"
   ]
  },
  {
   "cell_type": "markdown",
   "metadata": {},
   "source": [
    "**Problem Statement**:</br>\n",
    "Maximize Portfolio Yield (using _yields_ column).</br>\n",
    "<u>Constraints</u>:\n",
    "1. Rating Score - means that average rating (or number of Bonds) have to be of certain quality\n",
    "2. Weights must sum up to 1 (100%)\n",
    "3. Portfolio must have average rating of at least 10 (same condition as (1) if we convert ratings to scores)\n",
    "4. We can allocate 0% or 1% per HY bond (BY bond means that rating is >= 11)\n",
    "5. We can allocate from 0% to 2% per IG bond (IG bond means that rating is 10 <=) "
   ]
  },
  {
   "cell_type": "markdown",
   "metadata": {},
   "source": [
    "**Create some Fake Data Implimentation**"
   ]
  },
  {
   "cell_type": "code",
   "execution_count": 2,
   "metadata": {},
   "outputs": [],
   "source": [
    "data = pd.DataFrame({'country': choices(['UK', 'Lithuania', 'Canada', 'Iceland', 'Hong Kong', 'Denmark',\n",
    "                                'Australia', 'Germany', 'Italy', 'Norway', 'Ukraine', 'Ireland'], k=100),\n",
    "                    'rating': choices(['1', '2', '3', '4', '5', '6', '7', '8', '9', '10',\n",
    "                                '11', '12', '13', '14', '15', '16', '17'], k=100),\n",
    "                    'yield': random.uniform(-1, 12, 100)})"
   ]
  },
  {
   "cell_type": "code",
   "execution_count": 3,
   "metadata": {},
   "outputs": [],
   "source": [
    "data['rating'] = data['rating'].astype(int)"
   ]
  },
  {
   "cell_type": "code",
   "execution_count": 4,
   "metadata": {},
   "outputs": [],
   "source": [
    "data['bond_type'] = 'NaN'\n",
    "data['portfolio_weights'] = 0"
   ]
  },
  {
   "cell_type": "code",
   "execution_count": 5,
   "metadata": {},
   "outputs": [],
   "source": [
    "data.loc[data['rating'] >= 11, 'bond_type',] = 'HY'\n",
    "data.loc[data['rating'] <= 10, 'bond_type',] = 'IG'"
   ]
  },
  {
   "cell_type": "code",
   "execution_count": 6,
   "metadata": {},
   "outputs": [
    {
     "data": {
      "text/html": [
       "<div>\n",
       "<style scoped>\n",
       "    .dataframe tbody tr th:only-of-type {\n",
       "        vertical-align: middle;\n",
       "    }\n",
       "\n",
       "    .dataframe tbody tr th {\n",
       "        vertical-align: top;\n",
       "    }\n",
       "\n",
       "    .dataframe thead th {\n",
       "        text-align: right;\n",
       "    }\n",
       "</style>\n",
       "<table border=\"1\" class=\"dataframe\">\n",
       "  <thead>\n",
       "    <tr style=\"text-align: right;\">\n",
       "      <th></th>\n",
       "      <th>country</th>\n",
       "      <th>rating</th>\n",
       "      <th>yield</th>\n",
       "      <th>bond_type</th>\n",
       "      <th>portfolio_weights</th>\n",
       "    </tr>\n",
       "  </thead>\n",
       "  <tbody>\n",
       "    <tr>\n",
       "      <th>0</th>\n",
       "      <td>Germany</td>\n",
       "      <td>11</td>\n",
       "      <td>4.182071</td>\n",
       "      <td>HY</td>\n",
       "      <td>0</td>\n",
       "    </tr>\n",
       "    <tr>\n",
       "      <th>1</th>\n",
       "      <td>Canada</td>\n",
       "      <td>15</td>\n",
       "      <td>5.749430</td>\n",
       "      <td>HY</td>\n",
       "      <td>0</td>\n",
       "    </tr>\n",
       "    <tr>\n",
       "      <th>2</th>\n",
       "      <td>Italy</td>\n",
       "      <td>2</td>\n",
       "      <td>4.141943</td>\n",
       "      <td>IG</td>\n",
       "      <td>0</td>\n",
       "    </tr>\n",
       "    <tr>\n",
       "      <th>3</th>\n",
       "      <td>Denmark</td>\n",
       "      <td>1</td>\n",
       "      <td>10.880591</td>\n",
       "      <td>IG</td>\n",
       "      <td>0</td>\n",
       "    </tr>\n",
       "    <tr>\n",
       "      <th>4</th>\n",
       "      <td>Denmark</td>\n",
       "      <td>1</td>\n",
       "      <td>4.878323</td>\n",
       "      <td>IG</td>\n",
       "      <td>0</td>\n",
       "    </tr>\n",
       "  </tbody>\n",
       "</table>\n",
       "</div>"
      ],
      "text/plain": [
       "   country  rating      yield bond_type  portfolio_weights\n",
       "0  Germany      11   4.182071        HY                  0\n",
       "1   Canada      15   5.749430        HY                  0\n",
       "2    Italy       2   4.141943        IG                  0\n",
       "3  Denmark       1  10.880591        IG                  0\n",
       "4  Denmark       1   4.878323        IG                  0"
      ]
     },
     "execution_count": 6,
     "metadata": {},
     "output_type": "execute_result"
    }
   ],
   "source": [
    "data.head()"
   ]
  },
  {
   "cell_type": "code",
   "execution_count": 7,
   "metadata": {},
   "outputs": [],
   "source": [
    "from chromosome import Chromosome"
   ]
  },
  {
   "cell_type": "code",
   "execution_count": 8,
   "metadata": {},
   "outputs": [],
   "source": [
    "def generate_initial_populiation_given_data(data: 'data frame') -> list:\n",
    "    \"\"\"Purpose: given the data, generate initial population.\n",
    "    This function also imposes constraints on solutions.\n",
    "    Inputs:\n",
    "    =======\n",
    "    data (dataframe)\n",
    "    \n",
    "    Outputs:\n",
    "    ========\n",
    "    initial_populiation (list): initial populiation\n",
    "    \"\"\"\n",
    "    \n",
    "    \n",
    "    \n",
    "    \n",
    "    return "
   ]
  },
  {
   "cell_type": "code",
   "execution_count": 9,
   "metadata": {},
   "outputs": [],
   "source": [
    "initial_population = []"
   ]
  },
  {
   "cell_type": "code",
   "execution_count": 10,
   "metadata": {},
   "outputs": [],
   "source": [
    "for row in data.iterrows():\n",
    "    \n",
    "    if row[1]['rating'] >= 11:\n",
    "        max_weight = 0.01\n",
    "        chromosome = Chromosome({'rating': row[1]['rating'],\n",
    "                                 'yield': row[1]['yield'],\n",
    "                                 'min_weight': 0,\n",
    "                                 'max_weight': max_weight,\n",
    "                                 'weight': round(random.uniform(0, max_weight), 3)})\n",
    "    \n",
    "    if row[1]['rating'] <= 10:\n",
    "        max_weight = 0.02\n",
    "        chromosome = Chromosome({'rating': row[1]['rating'],\n",
    "                                 'yield': row[1]['yield'],\n",
    "                                 'min_weight': 0,\n",
    "                                 'max_weight': max_weight,\n",
    "                                 'weight': round(random.uniform(0, max_weight), 3)})\n",
    "\n",
    "    initial_population.append(chromosome)"
   ]
  },
  {
   "cell_type": "code",
   "execution_count": 11,
   "metadata": {},
   "outputs": [],
   "source": [
    "w = np.array([initial_population[i].weight for i in\n",
    "              range(len(initial_population))])"
   ]
  },
  {
   "cell_type": "code",
   "execution_count": 12,
   "metadata": {},
   "outputs": [
    {
     "data": {
      "text/plain": [
       "4.005161394915721"
      ]
     },
     "execution_count": 12,
     "metadata": {},
     "output_type": "execute_result"
    }
   ],
   "source": [
    "np.dot(w, data['yield'].values)"
   ]
  },
  {
   "cell_type": "markdown",
   "metadata": {},
   "source": [
    "**crossover is made as follows:**</br>\n",
    "a. Select 2 parents: G1, G2 </br>\n",
    "b. generate uniformly distributed random number gamma from [-alpha, 1 + alpha], where alpha = 0.5 </br>\n",
    "c. generate an offspring as follows: G = gamma * G1 + (1 - gamma) * G2 </br>"
   ]
  },
  {
   "cell_type": "code",
   "execution_count": 13,
   "metadata": {},
   "outputs": [
    {
     "name": "stderr",
     "output_type": "stream",
     "text": [
      "/opt/conda/lib/python3.7/site-packages/dask/config.py:168: YAMLLoadWarning: calling yaml.load() without Loader=... is deprecated, as the default Loader is unsafe. Please read https://msg.pyyaml.org/load for full details.\n",
      "  data = yaml.load(f.read()) or {}\n",
      "/opt/conda/lib/python3.7/site-packages/distributed/config.py:20: YAMLLoadWarning: calling yaml.load() without Loader=... is deprecated, as the default Loader is unsafe. Please read https://msg.pyyaml.org/load for full details.\n",
      "  defaults = yaml.load(f)\n"
     ]
    }
   ],
   "source": [
    "from GeneticAlgorithm import GeneticAlgorithm"
   ]
  },
  {
   "cell_type": "code",
   "execution_count": 14,
   "metadata": {},
   "outputs": [],
   "source": [
    "ga = GeneticAlgorithm(data=data, num_populations=20, yield_column='yield')"
   ]
  },
  {
   "cell_type": "code",
   "execution_count": 15,
   "metadata": {},
   "outputs": [],
   "source": [
    "ga.run()"
   ]
  },
  {
   "cell_type": "code",
   "execution_count": 16,
   "metadata": {},
   "outputs": [
    {
     "data": {
      "text/plain": [
       "10"
      ]
     },
     "execution_count": 16,
     "metadata": {},
     "output_type": "execute_result"
    }
   ],
   "source": [
    "len(ga.best_populations)"
   ]
  },
  {
   "cell_type": "code",
   "execution_count": null,
   "metadata": {},
   "outputs": [],
   "source": []
  },
  {
   "cell_type": "markdown",
   "metadata": {},
   "source": [
    "a. Select 2 parents: G1, G2</br>\n",
    "b. generate uniformly distributed random number gamma from [-alpha, 1 + alpha], where alpha = 0.5 </br>\n",
    "c. generate an offspring as follows: G = gamma * G1 + (1 - gamma) * G2 </br>"
   ]
  },
  {
   "cell_type": "code",
   "execution_count": 16,
   "metadata": {},
   "outputs": [
    {
     "data": {
      "text/plain": [
       "10"
      ]
     },
     "execution_count": 16,
     "metadata": {},
     "output_type": "execute_result"
    }
   ],
   "source": [
    "len(ga.best_populations)"
   ]
  },
  {
   "cell_type": "code",
   "execution_count": 23,
   "metadata": {},
   "outputs": [],
   "source": [
    "p1 = ga.best_populations[0]\n",
    "p2 = ga.best_populations[1]"
   ]
  },
  {
   "cell_type": "code",
   "execution_count": 24,
   "metadata": {},
   "outputs": [],
   "source": [
    "cut_point = 0.5\n",
    "cut_idx = int(len(p1) * cut_point)"
   ]
  },
  {
   "cell_type": "code",
   "execution_count": 27,
   "metadata": {},
   "outputs": [],
   "source": [
    "c1 = p1[0:cut_idx] + p2[cut_idx:]\n",
    "c1 = p2[0:cut_idx] + p1[cut_idx:]"
   ]
  },
  {
   "cell_type": "code",
   "execution_count": 98,
   "metadata": {},
   "outputs": [],
   "source": [
    "p_idx = []\n",
    "\n",
    "for idx, i in enumerate(range(int(len(p1)/2))):\n",
    "    if i == 0:\n",
    "        id_ = (0, 1)\n",
    "        p_idx.append(id_)\n",
    "    else:\n",
    "        id_ = (i+idx, i+idx+1)\n",
    "        p_idx.append(id_)"
   ]
  },
  {
   "cell_type": "code",
   "execution_count": 97,
   "metadata": {},
   "outputs": [
    {
     "data": {
      "text/plain": [
       "[(0, 1),\n",
       " (2, 3),\n",
       " (4, 5),\n",
       " (6, 7),\n",
       " (8, 9),\n",
       " (10, 11),\n",
       " (12, 13),\n",
       " (14, 15),\n",
       " (16, 17),\n",
       " (18, 19),\n",
       " (20, 21),\n",
       " (22, 23),\n",
       " (24, 25),\n",
       " (26, 27),\n",
       " (28, 29),\n",
       " (30, 31),\n",
       " (32, 33),\n",
       " (34, 35),\n",
       " (36, 37),\n",
       " (38, 39),\n",
       " (40, 41),\n",
       " (42, 43),\n",
       " (44, 45),\n",
       " (46, 47),\n",
       " (48, 49),\n",
       " (50, 51),\n",
       " (52, 53),\n",
       " (54, 55),\n",
       " (56, 57),\n",
       " (58, 59),\n",
       " (60, 61),\n",
       " (62, 63),\n",
       " (64, 65),\n",
       " (66, 67),\n",
       " (68, 69),\n",
       " (70, 71),\n",
       " (72, 73),\n",
       " (74, 75),\n",
       " (76, 77),\n",
       " (78, 79),\n",
       " (80, 81),\n",
       " (82, 83),\n",
       " (84, 85),\n",
       " (86, 87),\n",
       " (88, 89),\n",
       " (90, 91),\n",
       " (92, 93),\n",
       " (94, 95),\n",
       " (96, 97),\n",
       " (98, 99)]"
      ]
     },
     "execution_count": 97,
     "metadata": {},
     "output_type": "execute_result"
    }
   ],
   "source": [
    "p_idx"
   ]
  },
  {
   "cell_type": "code",
   "execution_count": 83,
   "metadata": {},
   "outputs": [
    {
     "data": {
      "text/plain": [
       "97"
      ]
     },
     "execution_count": 83,
     "metadata": {},
     "output_type": "execute_result"
    }
   ],
   "source": [
    "idx"
   ]
  },
  {
   "cell_type": "code",
   "execution_count": null,
   "metadata": {},
   "outputs": [],
   "source": []
  }
 ],
 "metadata": {
  "kernelspec": {
   "display_name": "Python 3",
   "language": "python",
   "name": "python3"
  },
  "language_info": {
   "codemirror_mode": {
    "name": "ipython",
    "version": 3
   },
   "file_extension": ".py",
   "mimetype": "text/x-python",
   "name": "python",
   "nbconvert_exporter": "python",
   "pygments_lexer": "ipython3",
   "version": "3.7.3"
  }
 },
 "nbformat": 4,
 "nbformat_minor": 2
}
